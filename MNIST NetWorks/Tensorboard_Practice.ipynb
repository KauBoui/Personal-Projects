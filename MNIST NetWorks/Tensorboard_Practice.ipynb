{
 "metadata": {
  "language_info": {
   "codemirror_mode": {
    "name": "ipython",
    "version": 3
   },
   "file_extension": ".py",
   "mimetype": "text/x-python",
   "name": "python",
   "nbconvert_exporter": "python",
   "pygments_lexer": "ipython3",
   "version": "3.6.12-final"
  },
  "orig_nbformat": 2,
  "kernelspec": {
   "name": "Python 3.6.12 64-bit ('KERAS-GPU': conda)",
   "display_name": "Python 3.6.12 64-bit ('KERAS-GPU': conda)",
   "metadata": {
    "interpreter": {
     "hash": "6233906f5feb4524c704e0d6bbad541b993dc4607848cf643cf4cafd7738297f"
    }
   }
  }
 },
 "nbformat": 4,
 "nbformat_minor": 2,
 "cells": [
  {
   "cell_type": "code",
   "execution_count": 4,
   "metadata": {},
   "outputs": [],
   "source": [
    "import tensorflow as tf\n",
    "import keras \n",
    "import keras.backend as K\n",
    "import datetime "
   ]
  },
  {
   "cell_type": "code",
   "execution_count": 5,
   "metadata": {},
   "outputs": [
    {
     "output_type": "stream",
     "name": "stdout",
     "text": [
      "TF VERSION: 2.0.0\nThe tensorboard extension is already loaded. To reload it, use:\n  %reload_ext tensorboard\n"
     ]
    }
   ],
   "source": [
    "print(\"TF VERSION: %s\" % tf.__version__)\n",
    "%load_ext tensorboard"
   ]
  },
  {
   "cell_type": "code",
   "execution_count": 7,
   "metadata": {},
   "outputs": [],
   "source": [
    "MNIST_data = keras.datasets.mnist \n",
    "\n",
    "BATCH_SIZE = 256\n",
    "BUFFER_SIZE = 60000\n",
    "\n",
    "(x_train, y_train),(x_test, y_test) = MNIST_data.load_data()\n",
    "x_train, x_test = x_train /255.0, x_test /255.0\n",
    "\n",
    "x_train = tf.data.Dataset.from_tensor_slices(X_train).shuffle(BUFFERSIZE).batch(BATCHSIZE)\n"
   ]
  },
  {
   "cell_type": "code",
   "execution_count": null,
   "metadata": {},
   "outputs": [],
   "source": []
  }
 ]
}