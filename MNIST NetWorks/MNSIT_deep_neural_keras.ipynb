{
 "nbformat": 4,
 "nbformat_minor": 2,
 "metadata": {
  "language_info": {
   "name": "python",
   "codemirror_mode": {
    "name": "ipython",
    "version": 3
   },
   "version": "3.7.4-final"
  },
  "orig_nbformat": 2,
  "file_extension": ".py",
  "mimetype": "text/x-python",
  "name": "python",
  "npconvert_exporter": "python",
  "pygments_lexer": "ipython3",
  "version": 3,
  "kernelspec": {
   "name": "python37464bitbasecondaf49892eab1044f0b86d4561e23d4c5c0",
   "display_name": "Python 3.7.4 64-bit ('base': conda)"
  }
 },
 "cells": [
  {
   "cell_type": "code",
   "execution_count": 52,
   "metadata": {},
   "outputs": [
    {
     "output_type": "stream",
     "name": "stdout",
     "text": "The tensorboard extension is already loaded. To reload it, use:\n  %reload_ext tensorboard\n"
    }
   ],
   "source": [
    "%load_ext tensorboard\n",
    "\n",
    "import datetime\n",
    "import os\n",
    "import numpy as np \n",
    "import tensorflow as tf \n",
    "from tensorflow import keras as kr\n",
    "from tensorflow.keras import layers\n",
    "from tensorflow.keras import activations\n",
    "from tensorflow.keras.datasets import mnist \n",
    "(X_train_orig, Y_train_orig), (X_test_orig, Y_test_orig) = mnist.load_data()\n",
    "\n",
    "!rm -rf ./logs/\n",
    "\n",
    "logdir = os.path.join(\"logs\", datetime.datetime.now().strftime(\"%Y%m%d-%H%M%S\"))\n",
    "tensorboard_callback = tf.keras.callbacks.TensorBoard(log_dir=logdir, histogram_freq=1)"
   ]
  },
  {
   "cell_type": "code",
   "execution_count": 53,
   "metadata": {},
   "outputs": [
    {
     "output_type": "stream",
     "name": "stdout",
     "text": "MNIST Dataset Shape:\nX_train: (60000, 28, 28, 1)\nY_train: (60000, 10)\nX_test:  (10000, 28, 28, 1)\nY_test:  (10000, 10)\n"
    }
   ],
   "source": [
    "print('MNIST Dataset Shape:')\n",
    "batch_size = 64 \n",
    "buffer_size = 10000\n",
    "steps_per_epoch = int(np.ceil(60000) / float(batch_size))\n",
    "epochs = 10\n",
    "num_classes = 10\n",
    "\n",
    "X_train = X_train_orig.astype(np.float32)/255\n",
    "X_train = np.expand_dims(X_train, -1)\n",
    "X_test = X_test_orig.astype(np.float32)/255\n",
    "X_test = np.expand_dims(X_test, -1)\n",
    "Y_train = tf.one_hot(Y_train_orig, num_classes)\n",
    "Y_test = tf.one_hot(Y_test_orig, num_classes)\n",
    "\n",
    "print('X_train: ' + str(X_train.shape))\n",
    "print('Y_train: ' + str(Y_train.shape))\n",
    "print('X_test:  '  + str(X_test.shape))\n",
    "print('Y_test:  '  + str(Y_test.shape))"
   ]
  },
  {
   "cell_type": "code",
   "execution_count": 54,
   "metadata": {},
   "outputs": [],
   "source": [
    "def Conv_Model(inputs):\n",
    "    X_input = kr.Input(inputs)\n",
    "    X = layers.Conv2D(32, (3,3), activation = 'relu', padding = 'valid')(X_input)\n",
    "    X = layers.MaxPooling2D(pool_size=(2,2))(X)\n",
    "    X = layers.Conv2D(64, (3,3), activation = 'relu')(X)\n",
    "    X = layers.MaxPooling2D(pool_size=(2,2))(X)\n",
    "    X = layers.Flatten()(X)\n",
    "    X = layers.Dense(512, activation = 'relu')(X)\n",
    "    X = layers.Dropout(0.5)(X)\n",
    "    X = layers.Dense(num_classes, activation='softmax', name = 'X_preds')(X)\n",
    "\n",
    "    model = kr.models.Model(inputs = X_input, outputs = X, \n",
    "            name = \"Mnist_Conv_Model\")\n",
    "\n",
    "    return model"
   ]
  },
  {
   "cell_type": "code",
   "execution_count": 55,
   "metadata": {},
   "outputs": [
    {
     "output_type": "stream",
     "name": "stdout",
     "text": "Epoch 1/5\n938/938 [==============================] - 22s 23ms/step - loss: 0.1703 - accuracy: 0.9475\nEpoch 2/5\n938/938 [==============================] - 21s 22ms/step - loss: 0.0532 - accuracy: 0.9835\nEpoch 3/5\n938/938 [==============================] - 21s 22ms/step - loss: 0.0390 - accuracy: 0.9880\nEpoch 4/5\n938/938 [==============================] - 21s 22ms/step - loss: 0.0299 - accuracy: 0.9906\nEpoch 5/5\n938/938 [==============================] - 20s 21ms/step - loss: 0.0258 - accuracy: 0.9915\n"
    },
    {
     "output_type": "execute_result",
     "data": {
      "text/plain": "<tensorflow.python.keras.callbacks.History at 0x1426e7310>"
     },
     "metadata": {},
     "execution_count": 55
    }
   ],
   "source": [
    "Conv_Model = Conv_Model(X_train.shape[1:])\n",
    "Conv_Model.compile(optimizer = 'adam', loss = 'categorical_crossentropy', metrics = [\"accuracy\"])\n",
    "Conv_Model.fit(x = X_train, y = Y_train, epochs = 5, batch_size = 64, callbacks=[tensorboard_callback])"
   ]
  },
  {
   "cell_type": "code",
   "execution_count": 56,
   "metadata": {},
   "outputs": [
    {
     "output_type": "display_data",
     "data": {
      "text/plain": "Reusing TensorBoard on port 6006 (pid 17596), started 0:02:07 ago. (Use '!kill 17596' to kill it.)"
     },
     "metadata": {}
    },
    {
     "output_type": "display_data",
     "data": {
      "text/plain": "<IPython.core.display.HTML object>",
      "text/html": "\n      <iframe id=\"tensorboard-frame-f18c28fc5252df2\" width=\"100%\" height=\"800\" frameborder=\"0\">\n      </iframe>\n      <script>\n        (function() {\n          const frame = document.getElementById(\"tensorboard-frame-f18c28fc5252df2\");\n          const url = new URL(\"/\", window.location);\n          url.port = 6006;\n          frame.src = url;\n        })();\n      </script>\n  "
     },
     "metadata": {}
    }
   ],
   "source": [
    "%tensorboard --logdir logs"
   ]
  },
  {
   "cell_type": "code",
   "execution_count": null,
   "metadata": {},
   "outputs": [],
   "source": [
    "predictions = Conv_Model.evaluate(x = X_test, y = Y_test)\n",
    "print (\"Loss = \" + str(predictions[0]))\n",
    "print (\"Test Accuracy = \" + str(predictions[1]))"
   ]
  },
  {
   "cell_type": "code",
   "execution_count": 9,
   "metadata": {},
   "outputs": [
    {
     "output_type": "stream",
     "name": "stdout",
     "text": "Model: \"Mnist_Conv_Model\"\n_________________________________________________________________\nLayer (type)                 Output Shape              Param #   \n=================================================================\ninput_1 (InputLayer)         [(None, 28, 28, 1)]       0         \n_________________________________________________________________\nconv2d (Conv2D)              (None, 26, 26, 32)        320       \n_________________________________________________________________\nmax_pooling2d (MaxPooling2D) (None, 13, 13, 32)        0         \n_________________________________________________________________\nconv2d_1 (Conv2D)            (None, 11, 11, 64)        18496     \n_________________________________________________________________\nmax_pooling2d_1 (MaxPooling2 (None, 5, 5, 64)          0         \n_________________________________________________________________\nflatten (Flatten)            (None, 1600)              0         \n_________________________________________________________________\ndense (Dense)                (None, 512)               819712    \n_________________________________________________________________\ndropout (Dropout)            (None, 512)               0         \n_________________________________________________________________\nX_preds (Dense)              (None, 10)                5130      \n=================================================================\nTotal params: 843,658\nTrainable params: 843,658\nNon-trainable params: 0\n_________________________________________________________________\n"
    }
   ],
   "source": [
    "Conv_Model.summary()"
   ]
  },
  {
   "cell_type": "code",
   "execution_count": 10,
   "metadata": {},
   "outputs": [],
   "source": [
    "import matplotlib as plt\n",
    "%matplotlib inline"
   ]
  },
  {
   "cell_type": "code",
   "execution_count": 11,
   "metadata": {},
   "outputs": [],
   "source": [
    "def Conv_Model_2(inputs):\n",
    "    X_input = kr.Input(inputs)\n",
    "    init = kr.initializers.GlorotNormal(seed=None)\n",
    "    X = layers.Conv2D(32, (6,6), \n",
    "                    activation = 'relu', \n",
    "                    padding = 'same',                                                                     kernel_initializer = init)(X_input)\n",
    "    X = layers.MaxPooling2D(pool_size=(2,2))(X)\n",
    "    X = layers.Conv2D(64, (3,3), \n",
    "                    activation = 'relu', \n",
    "                    padding = 'same',\n",
    "                    kernel_initializer = init)(X)\n",
    "    X = layers.MaxPooling2D(pool_size=(2,2))(X)\n",
    "    X = layers.Conv2D(64, (3,3), \n",
    "                    activation = 'relu', \n",
    "                    padding = 'same',\n",
    "                    kernel_initializer = init)(X)\n",
    "    X = layers.MaxPooling2D(pool_size=(2,2))(X)\n",
    "    X = layers.Flatten()(X)\n",
    "    X = layers.Dense(512, activation = 'relu')(X)\n",
    "    X = layers.Dropout(0.5)(X)\n",
    "    X = layers.Dense(num_classes, activation='softmax', name = 'X_preds')(X)\n",
    "\n",
    "    model = kr.models.Model(inputs = X_input, outputs = X, \n",
    "            name = \"Mnist_Conv_Model\")\n",
    "\n",
    "    return model"
   ]
  },
  {
   "cell_type": "code",
   "execution_count": 12,
   "metadata": {},
   "outputs": [],
   "source": [
    "Conv_Model_2 = Conv_Model_2(X_train.shape[1:])\n",
    "Conv_Model_2.compile(optimizer = 'adam', loss = 'categorical_crossentropy', metrics = [\"accuracy\"] )"
   ]
  },
  {
   "cell_type": "code",
   "execution_count": 94,
   "metadata": {},
   "outputs": [
    {
     "output_type": "stream",
     "name": "stdout",
     "text": "Epoch 1/5\n 522/3750 [===>..........................] - ETA: 47s - loss: 0.1973 - accuracy: 0.9388"
    }
   ],
   "source": [
    "Conv_Model_2.fit(x = X_train, y = Y_train, epochs = 5, batch_size = 16)"
   ]
  },
  {
   "cell_type": "code",
   "execution_count": 61,
   "metadata": {},
   "outputs": [
    {
     "output_type": "stream",
     "name": "stdout",
     "text": "313/313 [==============================] - 2s 6ms/step - loss: 0.0410 - accuracy: 0.9881\nLoss = 0.04103730246424675\nTest Accuracy = 0.988099992275238\n"
    }
   ],
   "source": [
    "predictions = Conv_Model_2.evaluate(x = X_test, y = Y_test)\n",
    "print (\"Loss = \" + str(predictions[0]))\n",
    "print (\"Test Accuracy = \" + str(predictions[1]))"
   ]
  },
  {
   "cell_type": "code",
   "execution_count": 90,
   "metadata": {},
   "outputs": [
    {
     "output_type": "stream",
     "name": "stdout",
     "text": "Model: \"Mnist_Conv_Model\"\n_________________________________________________________________\nLayer (type)                 Output Shape              Param #   \n=================================================================\ninput_17 (InputLayer)        [(None, 28, 28, 1)]       0         \n_________________________________________________________________\nconv2d_27 (Conv2D)           (None, 28, 28, 32)        320       \n_________________________________________________________________\nmax_pooling2d_24 (MaxPooling (None, 14, 14, 32)        0         \n_________________________________________________________________\nconv2d_28 (Conv2D)           (None, 14, 14, 64)        18496     \n_________________________________________________________________\nmax_pooling2d_25 (MaxPooling (None, 7, 7, 64)          0         \n_________________________________________________________________\nconv2d_29 (Conv2D)           (None, 7, 7, 64)          36928     \n_________________________________________________________________\nmax_pooling2d_26 (MaxPooling (None, 3, 3, 64)          0         \n_________________________________________________________________\nflatten_10 (Flatten)         (None, 576)               0         \n_________________________________________________________________\ndense_10 (Dense)             (None, 512)               295424    \n_________________________________________________________________\ndropout_8 (Dropout)          (None, 512)               0         \n_________________________________________________________________\nX_preds (Dense)              (None, 10)                5130      \n=================================================================\nTotal params: 356,298\nTrainable params: 356,298\nNon-trainable params: 0\n_________________________________________________________________\n"
    }
   ],
   "source": [
    "Conv_Model_2.summary()"
   ]
  },
  {
   "cell_type": "code",
   "execution_count": null,
   "metadata": {},
   "outputs": [],
   "source": []
  }
 ]
}