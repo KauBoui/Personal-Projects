{
 "nbformat": 4,
 "nbformat_minor": 2,
 "metadata": {
  "language_info": {
   "name": "python",
   "codemirror_mode": {
    "name": "ipython",
    "version": 3
   },
   "version": "3.7.4-final"
  },
  "orig_nbformat": 2,
  "file_extension": ".py",
  "mimetype": "text/x-python",
  "name": "python",
  "npconvert_exporter": "python",
  "pygments_lexer": "ipython3",
  "version": 3,
  "kernelspec": {
   "name": "python37464bitanaconda3virtualenvfc83ebcfebc84af9ac8935e07b18947c",
   "display_name": "Python 3.7.4 64-bit ('anaconda3': virtualenv)"
  }
 },
 "cells": [
  {
   "cell_type": "code",
   "execution_count": 1,
   "metadata": {},
   "outputs": [],
   "source": [
    "import os\n",
    "import numpy as np\n",
    "import tensorflow as tf\n",
    "import tensorflow.keras \n",
    "from tensorflow.keras import models\n",
    "from tensorflow.keras import layers\n",
    "from tensorflow.keras import activations\n",
    "from tensorflow.keras.datasets import cifar100"
   ]
  },
  {
   "cell_type": "code",
   "execution_count": 3,
   "metadata": {},
   "outputs": [
    {
     "name": "stdout",
     "output_type": "stream",
     "text": "X_train: (50000, 32, 32, 3)\nY_train: (50000, 1, 100)\nX_test:  (10000, 32, 32, 3)\nY_test:  (50000, 1, 100)\n"
    }
   ],
   "source": [
    "batch_size = 64\n",
    "buffersize = 50000\n",
    "steps_per_epoch = int(np.ceil(50000) / float(batch_size))\n",
    "epochs = 10\n",
    "num_classes = 100\n",
    "\n",
    "(X_train_orig, Y_train_orig), (X_test_orig, Y_test_orig) = cifar100.load_data(label_mode=\"fine\")\n",
    "\n",
    "X_train = X_train_orig.astype(np.float32)/255\n",
    "X_test = X_test_orig.astype(np.float32)/255\n",
    "Y_train = tf.one_hot(Y_train_orig, num_classes)\n",
    "Y_test = tf.one_hot(Y_train_orig, num_classes)\n",
    "\n",
    "print('X_train: ' + str(X_train.shape))\n",
    "print('Y_train: ' + str(Y_train.shape))\n",
    "print('X_test:  '  + str(X_test.shape))\n",
    "print('Y_test:  '  + str(Y_test.shape))"
   ]
  },
  {
   "cell_type": "code",
   "execution_count": 8,
   "metadata": {},
   "outputs": [],
   "source": [
    "def Conv_Model(input_shape):\n",
    "    Conv_Model = models.Sequential()\n",
    "    Conv_Model.add(layers.Conv2D(64, (3,3), activation='relu', input_shape = input_shape))\n",
    "    Conv_Model.add(layers.LeakyReLU())\n",
    "    Conv_Model.add(layers.Dropout(0.3))\n",
    "\n",
    "    Conv_Model.add(layers.MaxPooling2D((2,2)))\n",
    "\n",
    "    Conv_Model.add(layers.Conv2D(128, (3,3), activation='relu'))\n",
    "    Conv_Model.add(layers.LeakyReLU())\n",
    "    Conv_Model.add(layers.Dropout(0.3))\n",
    "\n",
    "    Conv_Model.add(layers.MaxPooling2D((2,2)))\n",
    "\n",
    "    Conv_Model.add(layers.Conv2D(256, (3,3), activation='relu'))\n",
    "    Conv_Model.add(layers.LeakyReLU())\n",
    "    Conv_Model.add(layers.Dropout(0.3))\n",
    "\n",
    "    Conv_Model.add(layers.MaxPooling2D((2,2)))\n",
    "\n",
    "    Conv_Model.add(layers.Flatten())\n",
    "    Conv_Model.add(layers.Dense(256, activation='relu'))\n",
    "    Conv_Model.add(layers.Dense(128, activation='relu'))\n",
    "    Conv_Model.add(layers.Dense(100, activation='softmax'))\n",
    "\n",
    "    return Conv_Model"
   ]
  },
  {
   "cell_type": "code",
   "execution_count": null,
   "metadata": {},
   "outputs": [],
   "source": [
    "Conv_Model = Conv_Model(X_train.shape)\n",
    "loss = keras.losses.sparse_categorical_crossentropy()\n",
    "Conv_Model.compile(optimizer='adam', loss= loss, metrics=['accuracy'])"
   ]
  },
  {
   "cell_type": "code",
   "execution_count": null,
   "metadata": {},
   "outputs": [],
   "source": []
  }
 ]
}