{
 "nbformat": 4,
 "nbformat_minor": 2,
 "metadata": {
  "language_info": {
   "name": "python",
   "codemirror_mode": {
    "name": "ipython",
    "version": 3
   },
   "version": "3.7.4-final"
  },
  "orig_nbformat": 2,
  "file_extension": ".py",
  "mimetype": "text/x-python",
  "name": "python",
  "npconvert_exporter": "python",
  "pygments_lexer": "ipython3",
  "version": 3,
  "kernelspec": {
   "name": "python37464bitanaconda3virtualenvfc83ebcfebc84af9ac8935e07b18947c",
   "display_name": "Python 3.7.4 64-bit ('anaconda3': virtualenv)"
  }
 },
 "cells": [
  {
   "cell_type": "code",
   "execution_count": 4,
   "metadata": {},
   "outputs": [],
   "source": [
    "from turtle import *\n",
    "\n",
    "# Constants\n",
    "dist = 10\n",
    "theta = 60"
   ]
  },
  {
   "cell_type": "code",
   "execution_count": 1,
   "metadata": {},
   "outputs": [],
   "source": [
    "def Split(axiom):\n",
    "    i = 0 \n",
    "    lst = []\n",
    "    while i < len(axiom):\n",
    "        if axiom[i] == \"F\":\n",
    "            lst.append(axiom[i:i+1])\n",
    "            i = i + 2\n",
    "        else:\n",
    "            lst.append(axiom[i])\n",
    "            i = i + 1\n",
    "    return lst\n",
    "\n",
    "def apply_productions(axiom, productions):\n",
    "    lst = Split(axiom)\n",
    "    for i in range(len(lst)):\n",
    "        symbol = lst[i]\n",
    "        if symbol in productions:\n",
    "            lst[i] = productions[symbol]\n",
    "        \n",
    "    axiom = \"\".join(symbol for symbol in lst)\n",
    "    return axiom\n",
    "\n",
    "def draw(lst):\n",
    "    lst = Split(axiom)\n",
    "    for symbol in lst:\n",
    "        if symbol == 'Fl' or symbol == 'Fr':\n",
    "            forward(dist)\n",
    "        elif symbol == '-':\n",
    "            left(theta)\n",
    "        elif symbol == '+':\n",
    "            right(theta)\n",
    ""
   ]
  },
  {
   "cell_type": "code",
   "execution_count": 2,
   "metadata": {},
   "outputs": [],
   "source": [
    "productions = {\n",
    "    \"Fl\" : \"Fl+Fr+\",\n",
    "    \"Fr\" : \"-Fl-Fr\"\n",
    "}\n",
    "\n",
    "axiom = \"Fl+Fr\""
   ]
  },
  {
   "cell_type": "code",
   "execution_count": 3,
   "metadata": {},
   "outputs": [
    {
     "output_type": "error",
     "ename": "NameError",
     "evalue": "name 'speed' is not defined",
     "traceback": [
      "\u001b[0;31m---------------------------------------------------------------------------\u001b[0m",
      "\u001b[0;31mNameError\u001b[0m                                 Traceback (most recent call last)",
      "\u001b[0;32m<ipython-input-3-63511bc74b7a>\u001b[0m in \u001b[0;36m<module>\u001b[0;34m\u001b[0m\n\u001b[0;32m----> 1\u001b[0;31m \u001b[0mspeed\u001b[0m\u001b[0;34m(\u001b[0m\u001b[0;36m0\u001b[0m\u001b[0;34m)\u001b[0m\u001b[0;34m\u001b[0m\u001b[0;34m\u001b[0m\u001b[0m\n\u001b[0m\u001b[1;32m      2\u001b[0m \u001b[0;32mfor\u001b[0m \u001b[0mi\u001b[0m \u001b[0;32min\u001b[0m \u001b[0mrange\u001b[0m\u001b[0;34m(\u001b[0m\u001b[0;36m5\u001b[0m\u001b[0;34m)\u001b[0m\u001b[0;34m:\u001b[0m\u001b[0;34m\u001b[0m\u001b[0;34m\u001b[0m\u001b[0m\n\u001b[1;32m      3\u001b[0m     \u001b[0maxiom\u001b[0m \u001b[0;34m=\u001b[0m \u001b[0mapply_productions\u001b[0m\u001b[0;34m(\u001b[0m\u001b[0maxiom\u001b[0m\u001b[0;34m,\u001b[0m \u001b[0mproductions\u001b[0m\u001b[0;34m)\u001b[0m\u001b[0;34m\u001b[0m\u001b[0;34m\u001b[0m\u001b[0m\n\u001b[1;32m      4\u001b[0m \u001b[0mdraw\u001b[0m\u001b[0;34m(\u001b[0m\u001b[0maxiom\u001b[0m\u001b[0;34m)\u001b[0m\u001b[0;34m\u001b[0m\u001b[0;34m\u001b[0m\u001b[0m\n\u001b[1;32m      5\u001b[0m \u001b[0mexitonclick\u001b[0m\u001b[0;34m(\u001b[0m\u001b[0;34m)\u001b[0m\u001b[0;34m\u001b[0m\u001b[0;34m\u001b[0m\u001b[0m\n",
      "\u001b[0;31mNameError\u001b[0m: name 'speed' is not defined"
     ]
    }
   ],
   "source": [
    "speed(0)\n",
    "for i in range(5):\n",
    "    axiom = apply_productions(axiom, productions)\n",
    "draw(axiom)\n",
    "exitonclick()"
   ]
  },
  {
   "cell_type": "code",
   "execution_count": null,
   "metadata": {},
   "outputs": [],
   "source": []
  }
 ]
}